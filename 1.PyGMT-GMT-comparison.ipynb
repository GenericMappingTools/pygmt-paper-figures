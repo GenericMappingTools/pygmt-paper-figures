{
 "cells": [
  {
   "cell_type": "code",
   "execution_count": null,
   "id": "0dfaa938-057e-4201-a936-a17c7a1009a9",
   "metadata": {},
   "outputs": [],
   "source": [
    "import pygmt\n",
    "\n",
    "fig = pygmt.Figure()\n",
    "fig.basemap(projection=\"N15c\", region=\"g\", frame=True)\n",
    "fig.coast(land=\"tan\", water=\"lightblue\")\n",
    "fig.text(position=\"MC\", text=\"PyGMT\", font=\"80p,Helvetica-Bold,red@75\")\n",
    "fig.show()\n",
    "fig.savefig(\"PyGMT-map.png\")"
   ]
  },
  {
   "cell_type": "code",
   "execution_count": null,
   "id": "7d56a075-5a02-4730-8c35-2aef38027739",
   "metadata": {},
   "outputs": [],
   "source": [
    "%%bash\n",
    "gmt begin GMT-map png\n",
    "    gmt basemap -JN15c -Rg -B\n",
    "    gmt coast -Gtan -Slightblue\n",
    "    echo GMT | gmt text -F+f80p,Helvetica-Bold,red@75+cMC\n",
    "gmt end show"
   ]
  },
  {
   "cell_type": "code",
   "execution_count": null,
   "id": "b304fb4a-d258-470f-89a7-6b2da0ca9283",
   "metadata": {},
   "outputs": [],
   "source": [
    "pygmt_str = \"\"\"\n",
    "import pygmt\n",
    "\n",
    "fig = pygmt.Figure()\n",
    "fig.basemap(projection=\"N15c\", region=\"g\", frame=True)\n",
    "fig.coast(land=\"tan\", water=\"lightblue\")\n",
    "fig.text(position=\"MC\", text=\"PyGMT\", font=\"80p,Helvetica-Bold,red@75\")\n",
    "fig.show()\n",
    "fig.savefig(\"PyGMT-map.png\")\n",
    "\"\"\".replace(\"@\", \"@@\").replace(\" \", \"\\\\040\").splitlines()"
   ]
  },
  {
   "cell_type": "code",
   "execution_count": null,
   "id": "1c229785-c7dc-49e7-960d-c528aee8995a",
   "metadata": {},
   "outputs": [],
   "source": [
    "gmt_str = \"\"\"\n",
    "gmt begin GMT-map png\n",
    "  gmt basemap -JN15c -Rg -B\n",
    "  gmt coast -Gtan -Slightblue\n",
    "  echo GMT | gmt text -F+f80p,Helvetica-Bold,red@75+cMC\n",
    "gmt end show\n",
    "\"\"\".replace(\"@\", \"@@\").replace(\" \", \"\\\\040\").splitlines()"
   ]
  },
  {
   "cell_type": "code",
   "execution_count": null,
   "id": "fa313831-3369-4dc3-bb92-6ca7b671dd65",
   "metadata": {},
   "outputs": [],
   "source": [
    "import pygmt\n",
    "fig = pygmt.Figure()\n",
    "\n",
    "pygmt.config(FONT_TITLE=\"12p\", MAP_TITLE_OFFSET=\"5p\")\n",
    "\n",
    "fig.basemap(region=[0, 20, 0, 3], projection=\"X12.25c/3.25c\", frame=\"lrtb+tGMT CLI\")\n",
    "fig.paragraph(x=0.25, y=0.6, text=gmt_str, parwidth=50, linespacing=0.4, alignment=\"left\", justify=\"BL\", font=\"Courier-Bold,10p\")\n",
    "\n",
    "fig.shift_origin(xshift=\"w+0.1c\")\n",
    "fig.basemap(region=[0, 20, 0, 3], projection=\"X15.25c/3.25c\", frame=\"lrtb+tPyGMT\")\n",
    "fig.paragraph(x=0.25, y=0.25, text=pygmt_str, parwidth=50, linespacing=0.4, alignment=\"left\", justify=\"BL\", font=\"Courier-Bold,10p\")\n",
    "\n",
    "fig.show()\n",
    "fig.savefig(\"pygmt-gmt-comparison.png\")"
   ]
  }
 ],
 "metadata": {
  "kernelspec": {
   "display_name": "pygmt",
   "language": "python",
   "name": "python3"
  },
  "language_info": {
   "codemirror_mode": {
    "name": "ipython",
    "version": 3
   },
   "file_extension": ".py",
   "mimetype": "text/x-python",
   "name": "python",
   "nbconvert_exporter": "python",
   "pygments_lexer": "ipython3",
   "version": "3.12.8"
  }
 },
 "nbformat": 4,
 "nbformat_minor": 5
}
