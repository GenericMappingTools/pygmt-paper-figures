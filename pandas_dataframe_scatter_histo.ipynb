{
 "cells": [
  {
   "cell_type": "code",
   "execution_count": null,
   "id": "533bc728-db2c-4f3a-ab3f-1f4f2c9ecd69",
   "metadata": {},
   "outputs": [],
   "source": [
    "import pandas as pd\n",
    "import pygmt\n",
    "\n",
    "\n",
    "fig = pygmt.Figure()\n",
    "\n",
    "fig.basemap(region=[131, 152, 33, 51], projection=\"M10c\", frame=True)\n",
    "fig.coast(land=\"gray95\", shorelines=\"gray50\")\n",
    "\n",
    "pygmt.makecpt(cmap=\"SCM/navia\", series=[0, 500], reverse=True)\n",
    "fig.colorbar(frame=[\"xa100f50+lhypocentral depth\", \"y+lkm\"], position=\"+ef0.2c\")\n",
    "\n",
    "# Load a GMT built-in dataset into a pandas.DataFrame\n",
    "df_eqs = pygmt.datasets.load_sample_data(name=\"japan_quakes\")\n",
    "# Plot the epicenters as color- and size-coded circels based on depth or magnitude\n",
    "fig.plot(\n",
    "    x=df_eqs.longitude,\n",
    "    y=df_eqs.latitude,\n",
    "    size=0.02 * 2**df_eqs.magnitude,\n",
    "    fill=df_eqs.depth_km,\n",
    "    cmap=True,\n",
    "    style=\"cc\",\n",
    "    pen=\"gray10\",\n",
    ")\n",
    "\n",
    "# Shift plot origin to the right\n",
    "fig.shift_origin(xshift=\"w+1c\")\n",
    "\n",
    "# Create histogram showing moment magnitude distribution\n",
    "fig.histogram(\n",
    "    region=[3, 8, 0, 0],\n",
    "    projection=\"X12c\",\n",
    "    frame=[\"lStE\", \"xa1af0.5+lmoment magnitude\", \"yaf+lCounts\"],\n",
    "    data=df_eqs.magnitude,\n",
    "    series=0.25,\n",
    "    fill=\"darkgray\",\n",
    "    pen=\"1p,lightgray,solid\",\n",
    "    histtype=0,\n",
    ")\n",
    "\n",
    "fig.show()"
   ]
  }
 ],
 "metadata": {
  "kernelspec": {
   "display_name": "Python 3 (ipykernel)",
   "language": "python",
   "name": "python3"
  },
  "language_info": {
   "codemirror_mode": {
    "name": "ipython",
    "version": 3
   },
   "file_extension": ".py",
   "mimetype": "text/x-python",
   "name": "python",
   "nbconvert_exporter": "python",
   "pygments_lexer": "ipython3",
   "version": "3.12.3"
  }
 },
 "nbformat": 4,
 "nbformat_minor": 5
}
