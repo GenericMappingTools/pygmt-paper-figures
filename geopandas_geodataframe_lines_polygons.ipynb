{
 "cells": [
  {
   "cell_type": "code",
   "execution_count": null,
   "id": "760146f6-d4c9-4e69-b539-f42e057c7945",
   "metadata": {},
   "outputs": [],
   "source": [
    "import geopandas as gpd\n",
    "import pygmt\n",
    "\n",
    "\n",
    "fig = pygmt.Figure()\n",
    "\n",
    "fig.coast(\n",
    "    projection=\"M10c\",\n",
    "    region=[-10, 34, 35, 59],\n",
    "    land=\"gray99\",\n",
    "    shorelines=\"1/0.1p,gray50\",\n",
    "    frame=[\"WsNe\", \"af\"],\n",
    ")\n",
    "\n",
    "gpd_rivers_org = gpd.read_file(\n",
    "    \"https://www.eea.europa.eu/data-and-maps/data/wise-large-rivers-and-large-lakes/\"\n",
    "    + \"zipped-shapefile-with-wise-large-rivers-vector-line/\"\n",
    "    + \"zipped-shapefile-with-wise-large-rivers-vector-line/\"\n",
    "    + \"at_download/file/wise_large_rivers.zip\"\n",
    ")\n",
    "gpd_rivers = gpd_rivers_org.to_crs(\"EPSG:4326\")\n",
    "\n",
    "# Plot the lines with pen\n",
    "fig.plot(data=gpd_rivers, pen=\"0.5p,steelblue,solid\")\n",
    "\n",
    "\n",
    "fig.shift_origin(xshift=\"w+1.5c\")\n",
    "\n",
    "\n",
    "fig.basemap(region=[-88, -87.5, 41.64, 42.04], projection=\"M9c\", frame=\"rtlb\")\n",
    "\n",
    "gdf_airbnb = gpd.read_file(\"https://geodacenter.github.io/data-and-lab//data/airbnb.zip\")\n",
    "popul_min = gdf_airbnb[\"population\"].min()\n",
    "popul_max = gdf_airbnb[\"population\"].max()\n",
    "pygmt.makecpt(cmap=\"SCM/bilbao\", series=[popul_min, popul_max, 10])\n",
    "fig.colorbar(frame=\"x+lpopulation\", position=\"jBL+jBL+o0.5c/0c+v\")\n",
    "\n",
    "# Plot the polygons with color-coding for the population\n",
    "fig.plot(\n",
    "    data=gdf_airbnb,\n",
    "    pen=\"0.2p,gray10\",\n",
    "    fill=\"+z\",\n",
    "    cmap=True,\n",
    "    aspatial=\"Z=population\",\n",
    ")\n",
    "\n",
    "fig.show()"
   ]
  }
 ],
 "metadata": {
  "kernelspec": {
   "display_name": "Python 3 (ipykernel)",
   "language": "python",
   "name": "python3"
  },
  "language_info": {
   "codemirror_mode": {
    "name": "ipython",
    "version": 3
   },
   "file_extension": ".py",
   "mimetype": "text/x-python",
   "name": "python",
   "nbconvert_exporter": "python",
   "pygments_lexer": "ipython3",
   "version": "3.12.3"
  }
 },
 "nbformat": 4,
 "nbformat_minor": 5
}
