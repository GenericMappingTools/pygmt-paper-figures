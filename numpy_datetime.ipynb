{
 "cells": [
  {
   "cell_type": "code",
   "execution_count": null,
   "id": "32fadb57-786d-4979-9e6a-d8a7225063f2",
   "metadata": {},
   "outputs": [],
   "source": [
    "import pygmt\n",
    "import datetime\n",
    "import numpy as np\n",
    "\n",
    "\n",
    "# Data retrieved from https://star-history.com/#GenericMappingTools/pygmt&Date 2024/12/01\n",
    "dates_pygmt = np.array(\n",
    "    [\"2017-03-30\", \"2017-08-05\", \"2018-05-24\", \"2019-01-11\", \"2019-12-10\", \"2020-05-18\",\n",
    "     \"2020-12-29\", \"2021-06-22\", \"2021-12-01\", \"2022-03-06\", \"2022-07-26\", \"2023-02-16\",\n",
    "     \"2023-09-11\", \"2023-11-11\", \"2024-05-11\", \"2024-12-01\"], dtype=np.datetime64\n",
    ")\n",
    "stars_pygmt = np.array([\n",
    "    0, 30, 90, 150, 210, 240, 300, 360, 420, 450, 510, 570, 630, 660, 720, 769]\n",
    ")\n",
    "\n",
    "# Data retrieved from https://star-history.com/#GenericMappingTools/gmt&Date 2024/12/01\n",
    "dates_gmt = np.array(\n",
    "    [\"2018-08-13\", \"2019-01-04\", \"2019-03-01\", \"2019-07-27\", \"2019-11-29\", \"2020-03-13\",\n",
    "     \"2020-07-08\", \"2020-09-26\", \"2021-03-15\", \"2021-09-13\", \"2022-02-16\", \"2022-08-23\",\n",
    "     \"2023-04-13\", \"2023-11-17\", \"2024-05-29\", \"2024-12-01\"], dtype=np.datetime64\n",
    ")\n",
    "stars_gmt = np.array([\n",
    "    0, 60, 120, 180, 240, 300, 360, 390, 450, 510, 570, 630, 690, 750, 810, 864]\n",
    ")\n",
    "\n",
    "\n",
    "fig = pygmt.Figure()\n",
    "fig.basemap(\n",
    "    projection=\"X12c/6c\",\n",
    "    region=[datetime.date(2017, 1, 1), datetime.date(2025, 6, 30), 0, 900],\n",
    "    frame=[\"x+lyear\", \"y+lGitHub stars\"],\n",
    ")\n",
    "\n",
    "fig.plot(x=dates_gmt, y=stars_gmt, pen=\"238/86/52\", no_clip=True)\n",
    "fig.plot(x=dates_gmt, y=stars_gmt, style=\"c0.23c\", fill=\"238/86/52\", no_clip=True, label=\"GMT\")\n",
    "\n",
    "fig.plot(x=dates_pygmt, y=stars_pygmt, pen=\"63/124/173\", no_clip=True)\n",
    "fig.plot(x=dates_pygmt, y=stars_pygmt, style=\"c0.23c\", fill=\"63/124/173\", no_clip=True, label=\"PyGMT\")\n",
    "\n",
    "fig.legend(position=\"jBR\")\n",
    "fig.show()"
   ]
  }
 ],
 "metadata": {
  "kernelspec": {
   "display_name": "Python 3 (ipykernel)",
   "language": "python",
   "name": "python3"
  },
  "language_info": {
   "codemirror_mode": {
    "name": "ipython",
    "version": 3
   },
   "file_extension": ".py",
   "mimetype": "text/x-python",
   "name": "python",
   "nbconvert_exporter": "python",
   "pygments_lexer": "ipython3",
   "version": "3.12.3"
  }
 },
 "nbformat": 4,
 "nbformat_minor": 5
}
